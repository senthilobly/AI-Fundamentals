{
 "cells": [
  {
   "cell_type": "markdown",
   "id": "31522678-8a24-4c67-bd8f-ffc5d3b69e04",
   "metadata": {},
   "source": [
    "# NumPy Fundamentals for Machile learning and Deep Learning models\n",
    "# Numerical Python used for efficient numerical computing, especially with arrays and matrices.\n",
    "Key Uses of Numpy:\n",
    "\n",
    "1. Multidimensional Arrays ex: np.array\n",
    "2. Mathematical Operations ex: np.mean(a), np.std(a), np.sum(a)\n",
    "3. Linear Algebra ex: np.dot(A, B), np.linalg.inv(A)\n",
    "4. Broadcasting\n",
    "5. Random Number Generation\n",
    "6. Fast Iteration & Memory Efficiency (Much faster and more memory-efficient than regular Python lists due to internal C implementation)\n",
    "7. Data Preparation for ML/AI (Used in machine learning, image processing, signal analysis, etc., for numerical preprocessing before model training)\n",
    "\n",
    "🔗 Used by Libraries:\n",
    "Pandas\n",
    "Scikit-learn\n",
    "TensorFlow / PyTorch\n",
    "OpenCV\n",
    "Matplotlib"
   ]
  },
  {
   "cell_type": "code",
   "execution_count": 1,
   "id": "ff4914c6-421a-4cb3-a047-c75857671a36",
   "metadata": {},
   "outputs": [],
   "source": [
    "import numpy as np"
   ]
  },
  {
   "cell_type": "code",
   "execution_count": 28,
   "id": "a7a3b6df-7e3f-4ad8-99b6-153efb75f790",
   "metadata": {},
   "outputs": [],
   "source": [
    "#Array Initialization\n",
    "A = [1,2,3,4]\n",
    "B = [1,2,3,4]\n",
    "linearA = [1,2]\n",
    "array2d = [[1,2],[3,4]]\n",
    "array3d = [[[1,2,3],[4,5,6],[7,8,9]]]"
   ]
  },
  {
   "cell_type": "code",
   "execution_count": 13,
   "id": "e603c157-dc33-4f2b-8e80-6f031c6d910f",
   "metadata": {},
   "outputs": [],
   "source": [
    "dot_product = np.dot(A, B)"
   ]
  },
  {
   "cell_type": "code",
   "execution_count": 51,
   "id": "b8c8c2e1-dfbf-4e01-86ee-76243818f3e8",
   "metadata": {},
   "outputs": [
    {
     "name": "stdout",
     "output_type": "stream",
     "text": [
      "Dot Product. 30\n"
     ]
    }
   ],
   "source": [
    "print(\"Dot Product.\", dot_product)"
   ]
  },
  {
   "cell_type": "code",
   "execution_count": 52,
   "id": "00e62a47-6d83-4aea-82b4-20dc4e9e97a6",
   "metadata": {},
   "outputs": [
    {
     "name": "stdout",
     "output_type": "stream",
     "text": [
      "[[1 3]\n",
      " [2 4]]\n"
     ]
    }
   ],
   "source": [
    "C = np.array([[1,2],[3,4]])\n",
    "print(C.T)"
   ]
  },
  {
   "cell_type": "code",
   "execution_count": 53,
   "id": "348440cc-3379-48d4-82a4-e73b9bbfbcfe",
   "metadata": {},
   "outputs": [
    {
     "name": "stdout",
     "output_type": "stream",
     "text": [
      "Transpose 2d array. [[1 3]\n",
      " [2 4]]\n"
     ]
    }
   ],
   "source": [
    "print(\"Transpose 2d array.\", np.transpose(array2d))"
   ]
  },
  {
   "cell_type": "code",
   "execution_count": 54,
   "id": "c74b02d5-73b6-4802-98cb-01fcb5701b29",
   "metadata": {},
   "outputs": [
    {
     "name": "stdout",
     "output_type": "stream",
     "text": [
      "Matrix Inverse. [[-2.   1. ]\n",
      " [ 1.5 -0.5]]\n"
     ]
    }
   ],
   "source": [
    "print(\"Matrix Inverse.\", np.linalg.inv(array2d))"
   ]
  },
  {
   "cell_type": "code",
   "execution_count": 55,
   "id": "fc2431df-6470-4fad-832e-223e51d89835",
   "metadata": {},
   "outputs": [
    {
     "name": "stdout",
     "output_type": "stream",
     "text": [
      "Eigen Value and Eigen Vector results. EigResult(eigenvalues=array([-0.37228132,  5.37228132]), eigenvectors=array([[-0.82456484, -0.41597356],\n",
      "       [ 0.56576746, -0.90937671]]))\n"
     ]
    }
   ],
   "source": [
    "print(\"Eigen Value and Eigen Vector results.\", np.linalg.eig(array2d))"
   ]
  },
  {
   "cell_type": "code",
   "execution_count": 56,
   "id": "213986ab-5724-4ca8-9573-01edfd2868c2",
   "metadata": {},
   "outputs": [
    {
     "name": "stdout",
     "output_type": "stream",
     "text": [
      "Solving Linear Systems. [0.  0.5]\n"
     ]
    }
   ],
   "source": [
    "print(\"Solving Linear Systems.\", np.linalg.solve(array2, linearA))"
   ]
  },
  {
   "cell_type": "code",
   "execution_count": null,
   "id": "c12d1fc3-8625-400f-a5c1-800e0a7ace49",
   "metadata": {},
   "outputs": [],
   "source": [
    "# 1. Array Creation function"
   ]
  },
  {
   "cell_type": "code",
   "execution_count": 57,
   "id": "6b726140-6be8-4198-9cc3-0e17236881d5",
   "metadata": {},
   "outputs": [
    {
     "name": "stdout",
     "output_type": "stream",
     "text": [
      "NP Array. [1 2 3 4]\n"
     ]
    }
   ],
   "source": [
    "nparray = np.array([1,2,3,4])\n",
    "print(\"NP Array.\", nparray)"
   ]
  },
  {
   "cell_type": "code",
   "execution_count": 58,
   "id": "c25f59f4-4498-4127-a5a3-5cfe9c381525",
   "metadata": {},
   "outputs": [
    {
     "name": "stdout",
     "output_type": "stream",
     "text": [
      "2x3 Matrix of Zeroz. [[0. 0. 0.]\n",
      " [0. 0. 0.]]\n"
     ]
    }
   ],
   "source": [
    "npzero = np.zeros((2,3))\n",
    "print(\"2x3 Matrix of Zeroz.\", npzero)"
   ]
  },
  {
   "cell_type": "code",
   "execution_count": 59,
   "id": "48199638-4e69-4a75-bc90-bd47e872003c",
   "metadata": {},
   "outputs": [
    {
     "name": "stdout",
     "output_type": "stream",
     "text": [
      "3x4 matrix of ones. [[1. 1. 1. 1.]\n",
      " [1. 1. 1. 1.]\n",
      " [1. 1. 1. 1.]]\n"
     ]
    }
   ],
   "source": [
    "npones = np.ones((3,4))\n",
    "print(\"3x4 matrix of ones.\", npones)"
   ]
  },
  {
   "cell_type": "code",
   "execution_count": 60,
   "id": "eb285e1c-1624-41df-b2dd-a1c4f976826f",
   "metadata": {},
   "outputs": [
    {
     "name": "stdout",
     "output_type": "stream",
     "text": [
      "4x4 Identity matrix. [[1. 0. 0. 0.]\n",
      " [0. 1. 0. 0.]\n",
      " [0. 0. 1. 0.]\n",
      " [0. 0. 0. 1.]]\n"
     ]
    }
   ],
   "source": [
    "npeye = np.eye(4)\n",
    "print(\"4x4 Identity matrix.\", npeye)"
   ]
  },
  {
   "cell_type": "code",
   "execution_count": 61,
   "id": "6cab19e7-9225-4a53-9019-61dc3bd54aec",
   "metadata": {},
   "outputs": [
    {
     "name": "stdout",
     "output_type": "stream",
     "text": [
      "2x3 Matrix filled with 5. [[5 5 5]\n",
      " [5 5 5]]\n"
     ]
    }
   ],
   "source": [
    "npfull = np.full((2,3),5)\n",
    "print(\"2x3 Matrix filled with 5.\", npfull)"
   ]
  },
  {
   "cell_type": "code",
   "execution_count": 62,
   "id": "eb765319-1c90-4605-b584-225a60c84928",
   "metadata": {},
   "outputs": [
    {
     "name": "stdout",
     "output_type": "stream",
     "text": [
      "Arrange the n matrix with addition of 1 between 0 to 10. [0 1 2 3 4 5 6 7 8 9]\n"
     ]
    }
   ],
   "source": [
    "nparange = np.arange(0,10,1)\n",
    "print(\"Arrange the n matrix with addition of 1 between 0 to 10.\", nparange)"
   ]
  },
  {
   "cell_type": "code",
   "execution_count": 67,
   "id": "8902446a-b0f8-4c49-86c4-24860b48cda3",
   "metadata": {},
   "outputs": [
    {
     "name": "stdout",
     "output_type": "stream",
     "text": [
      "Line space for start, stop and space, (stop-start)/(Space-1). [  0.          11.11111111  22.22222222  33.33333333  44.44444444\n",
      "  55.55555556  66.66666667  77.77777778  88.88888889 100.        ]\n"
     ]
    }
   ],
   "source": [
    "nplspace = np.linspace(0,100,10)\n",
    "print(\"Line space for start, stop and space, (stop-start)/(Space-1).\",nplspace)"
   ]
  },
  {
   "cell_type": "code",
   "execution_count": 82,
   "id": "ecd571cb-d463-42a9-b7cc-ea39bc84ae25",
   "metadata": {},
   "outputs": [
    {
     "name": "stdout",
     "output_type": "stream",
     "text": [
      "Random numbers between 0 and 1 for 2x2 matrix with center(mean) 0.5. [[0.31038807 0.68046006]\n",
      " [0.17684643 0.91475354]]\n"
     ]
    }
   ],
   "source": [
    "nprandom = np.random.rand(2,2)\n",
    "print(\"Random numbers between 0 and 1 for 2x2 matrix with center(mean) 0.5.\", nprandom)"
   ]
  },
  {
   "cell_type": "code",
   "execution_count": 83,
   "id": "9a932041-1e5e-4542-98a0-18e50b5a37f9",
   "metadata": {},
   "outputs": [
    {
     "name": "stdout",
     "output_type": "stream",
     "text": [
      "Random numbers for 2x2 martrix between -infinity to +infinity with 0 centered(Mean). [[-0.99960082 -1.3999527 ]\n",
      " [-1.40745424  0.48274659]]\n"
     ]
    }
   ],
   "source": [
    "npnrandom = np.random.randn(2,2)\n",
    "print(\"Random numbers for 2x2 martrix between -infinity to +infinity with 0 centered(Mean).\", npnrandom)"
   ]
  },
  {
   "cell_type": "code",
   "execution_count": 87,
   "id": "301bfb95-0338-44e2-acaf-317f9ece5ac0",
   "metadata": {},
   "outputs": [
    {
     "name": "stdout",
     "output_type": "stream",
     "text": [
      "Random numbers between 0(inclusive) to 10(Exclusive) in 2x2 matrix. [[8 2]\n",
      " [5 8]]\n"
     ]
    }
   ],
   "source": [
    "npranint = np.random.randint(1,10,(2,2))\n",
    "print(\"Random numbers between 0(inclusive) to 10(Exclusive) in 2x2 matrix.\",npranint)"
   ]
  },
  {
   "cell_type": "code",
   "execution_count": null,
   "id": "1e84950e-4573-4f49-a36b-adc369c00c56",
   "metadata": {},
   "outputs": [],
   "source": [
    "# 2. Array Manipulation"
   ]
  },
  {
   "cell_type": "code",
   "execution_count": 99,
   "id": "3f9a0e9d-ebca-4acc-a33f-0a8b6560abbf",
   "metadata": {},
   "outputs": [
    {
     "name": "stdout",
     "output_type": "stream",
     "text": [
      "Reshape the n arrray into 3x3 matrix. [[1 2]\n",
      " [3 4]\n",
      " [5 6]]\n"
     ]
    }
   ],
   "source": [
    "a = [1,2,3,4,5,6]\n",
    "reshape = np.reshape(a, (3,2))\n",
    "print(\"Reshape the n arrray into 3x3 matrix.\", reshape)"
   ]
  },
  {
   "cell_type": "code",
   "execution_count": 104,
   "id": "e5d8ad61-2997-4aa1-a41d-490727d4620b",
   "metadata": {},
   "outputs": [
    {
     "name": "stdout",
     "output_type": "stream",
     "text": [
      "Flatten any given dimensional array. [1. 1. 1. 1.]\n"
     ]
    }
   ],
   "source": [
    "b = np.ones([2,2])\n",
    "flatten = np.ravel(b)\n",
    "print(\"Flatten any given dimensional array.\", flatten)"
   ]
  },
  {
   "cell_type": "code",
   "execution_count": 107,
   "id": "5bf2e97c-2e32-4810-9100-1db9d4d0aaaa",
   "metadata": {},
   "outputs": [
    {
     "name": "stdout",
     "output_type": "stream",
     "text": [
      "Transpose any given array. [[1 3]\n",
      " [2 4]]\n"
     ]
    }
   ],
   "source": [
    "c = [[1,2],[3,4]]\n",
    "transpose = np.transpose(c)\n",
    "print(\"Transpose any given array.\", transpose)"
   ]
  },
  {
   "cell_type": "code",
   "execution_count": 109,
   "id": "5e5f343c-f9de-44b5-b390-8805df80326d",
   "metadata": {},
   "outputs": [
    {
     "name": "stdout",
     "output_type": "stream",
     "text": [
      "[[1 2]\n",
      " [3 4]\n",
      " [5 6]\n",
      " [7 8]]\n"
     ]
    }
   ],
   "source": [
    "v1 = [[1,2],[3,4]]\n",
    "v2 = [[5,6],[7,8]]\n",
    "vstack = np.vstack([v1,v2])\n",
    "print(\"Vertical stacking of two array row wise.\",vstack)"
   ]
  },
  {
   "cell_type": "code",
   "execution_count": 110,
   "id": "a3ca18a3-bdb9-483d-b000-33e6ed78ba04",
   "metadata": {},
   "outputs": [
    {
     "name": "stdout",
     "output_type": "stream",
     "text": [
      "[[1 2 5 6]\n",
      " [3 4 7 8]]\n"
     ]
    }
   ],
   "source": [
    "hstack = np.hstack([v1,v2])\n",
    "print(\"Horiontal stacking of two arrays.\",hstack)"
   ]
  },
  {
   "cell_type": "code",
   "execution_count": 115,
   "id": "eb757044-0f5a-4969-9843-d2d99ee8fee8",
   "metadata": {},
   "outputs": [
    {
     "name": "stdout",
     "output_type": "stream",
     "text": [
      "Split array s1 into 3 equal parts. [array([1, 2]), array([3, 4]), array([5, 6])]\n"
     ]
    }
   ],
   "source": [
    "s1 = np.array([1,2,3,4,5,6])\n",
    "split = np.split(s1, 3)\n",
    "print(\"Split array s1 into 3 equal parts.\", split)"
   ]
  },
  {
   "cell_type": "code",
   "execution_count": 120,
   "id": "1a1588b0-cd9e-4600-8ded-605ac7b2f4fd",
   "metadata": {},
   "outputs": [
    {
     "name": "stdout",
     "output_type": "stream",
     "text": [
      "Join the arrays end to end. [1 2 3 4 5 6]\n"
     ]
    }
   ],
   "source": [
    "c1 = np.array([1,2,3])\n",
    "c2 = np.array([4,5,6])\n",
    "concat = np.concatenate([c1, c2], axis=0)\n",
    "print(\"Join the arrays end to end.\",concat)"
   ]
  },
  {
   "cell_type": "code",
   "execution_count": 134,
   "id": "a88d57f5-21c6-490c-8420-5dfa18831ad4",
   "metadata": {},
   "outputs": [
    {
     "name": "stdout",
     "output_type": "stream",
     "text": [
      "New dimsnsion:\n",
      " [1 2 3]\n",
      "Shape Comparision before and After: (3,) (1, 3)\n"
     ]
    }
   ],
   "source": [
    "dimension = np.expand_dims(c1, axis=0)\n",
    "print(\"New dimsnsion:\\n\",c1)\n",
    "print(\"Shape Comparision before and After:\",c1.shape, dimension.shape)"
   ]
  },
  {
   "cell_type": "code",
   "execution_count": 135,
   "id": "8cc71e2c-b317-4225-b133-f49fc9c9f3b5",
   "metadata": {},
   "outputs": [
    {
     "name": "stdout",
     "output_type": "stream",
     "text": [
      "Squeezed Dimension. [1 2 3]\n",
      "Shape Comparision before and After: (1, 3) (3,)\n"
     ]
    }
   ],
   "source": [
    "squeeze = np.squeeze(dimension)\n",
    "print(\"Squeezed Dimension.\", squeeze)\n",
    "print(\"Shape Comparision before and After:\",dimension.shape, squeeze.shape)"
   ]
  },
  {
   "cell_type": "code",
   "execution_count": null,
   "id": "edabb3d8-2fb8-48fe-a56d-9abd90705bad",
   "metadata": {},
   "outputs": [],
   "source": [
    "# 3. Mathematical Operations"
   ]
  },
  {
   "cell_type": "code",
   "execution_count": 137,
   "id": "0a01eb3f-a061-4b2f-9572-5a542a61e5c4",
   "metadata": {},
   "outputs": [
    {
     "name": "stdout",
     "output_type": "stream",
     "text": [
      "[2 4 6 8]\n"
     ]
    }
   ],
   "source": [
    "addition = np.add(A,B)\n",
    "print(\"Addition of given Array.\",addition)"
   ]
  },
  {
   "cell_type": "code",
   "execution_count": 138,
   "id": "f8f15c0e-e81d-4a7e-ba30-7de2580b5704",
   "metadata": {},
   "outputs": [
    {
     "name": "stdout",
     "output_type": "stream",
     "text": [
      "Subtract Given array. [0 0 0 0]\n"
     ]
    }
   ],
   "source": [
    "subtract = np.subtract(A,B)\n",
    "print(\"Subtract Given array.\", subtract)\n"
   ]
  },
  {
   "cell_type": "code",
   "execution_count": 143,
   "id": "fa937413-17ca-4b27-b237-deac781f70a2",
   "metadata": {},
   "outputs": [
    {
     "name": "stdout",
     "output_type": "stream",
     "text": [
      "Multiply given Array. [[ 1  4]\n",
      " [ 9 16]]\n"
     ]
    }
   ],
   "source": [
    "multiply = np.multiply(array2d,array2d)\n",
    "print(\"Multiply given Array.\", multiply)"
   ]
  },
  {
   "cell_type": "code",
   "execution_count": 142,
   "id": "af98392a-0e3d-4678-9d79-8c45d493f9b5",
   "metadata": {},
   "outputs": [
    {
     "name": "stdout",
     "output_type": "stream",
     "text": [
      "Divide given Array. [1. 1. 1. 1.]\n"
     ]
    }
   ],
   "source": [
    "div = np.divide(A,B)\n",
    "print(\"Divide given Array.\", div)"
   ]
  },
  {
   "cell_type": "code",
   "execution_count": 144,
   "id": "e0194479-759d-4965-a9f9-78400ccde7c9",
   "metadata": {},
   "outputs": [
    {
     "name": "stdout",
     "output_type": "stream",
     "text": [
      "Dot Matrix Multiplication. [[ 7 10]\n",
      " [15 22]]\n"
     ]
    }
   ],
   "source": [
    "dot_matrix = np.dot(array2d, array2d)\n",
    "print(\"Dot Matrix Multiplication.\", dot_matrix)"
   ]
  },
  {
   "cell_type": "code",
   "execution_count": 148,
   "id": "f9b3d69d-700b-45f0-afcb-44f005464106",
   "metadata": {},
   "outputs": [
    {
     "name": "stdout",
     "output_type": "stream",
     "text": [
      "Dot matrix multiplication of A row and B column. [[19 22]\n",
      " [43 50]]\n"
     ]
    }
   ],
   "source": [
    "dot1 = np.array([[1,2],[3,4]])\n",
    "dot2 = np.array([[5,6],[7,8]])\n",
    "dot_mat = np.dot(dot1,dot2)\n",
    "print(\"Dot matrix multiplication of A row and B column.\", dot_mat)"
   ]
  },
  {
   "cell_type": "code",
   "execution_count": 160,
   "id": "a6d179bd-d65a-42eb-a9dd-cfa150f8ace6",
   "metadata": {},
   "outputs": [
    {
     "name": "stdout",
     "output_type": "stream",
     "text": [
      "Matrix Multiplication of given array. [[[0.96865346 0.6496102  0.87589316 1.23773282 1.35060505]\n",
      "  [0.85034895 1.06940388 0.46026764 0.55346909 1.37378016]\n",
      "  [1.1438544  1.08302226 0.83140353 1.21301432 1.68457261]]\n",
      "\n",
      " [[0.72287633 1.22292159 1.09880467 0.67599629 1.38244865]\n",
      "  [0.2989648  0.79763067 0.62461835 0.44835778 0.85895302]\n",
      "  [1.02393256 1.15058851 0.7548284  0.77158118 1.00246876]]]\n",
      "Shape of Matrix Multiplication of given array. (2, 3, 5)\n"
     ]
    }
   ],
   "source": [
    "am = np.random.rand(2,3,4)\n",
    "bm = np.random.rand(2,4,5)\n",
    "print(\"Matrix Multiplication of given array.\", np.matmul(am,bm))\n",
    "print(\"Shape of Matrix Multiplication of given array.\", np.matmul(am,bm).shape)"
   ]
  },
  {
   "cell_type": "code",
   "execution_count": 161,
   "id": "d3c7163a-d0b2-4e0e-b5dd-8c3f7d77f6bf",
   "metadata": {},
   "outputs": [
    {
     "name": "stdout",
     "output_type": "stream",
     "text": [
      "Square of given array. [[ 1  4]\n",
      " [ 9 16]]\n"
     ]
    }
   ],
   "source": [
    "pow1 = [[1,2],[3,4]]\n",
    "square = np.power(pow1, 2)\n",
    "print(\"Square of given array.\", square)"
   ]
  },
  {
   "cell_type": "code",
   "execution_count": 162,
   "id": "2559fb0f-5c1e-4c01-958f-9edab1d3f35d",
   "metadata": {},
   "outputs": [
    {
     "name": "stdout",
     "output_type": "stream",
     "text": [
      "[[ 2.71828183  7.3890561 ]\n",
      " [20.08553692 54.59815003]]\n"
     ]
    }
   ],
   "source": [
    "expo = np.exp(pow1)\n",
    "print(\"Exponential calculation on given array.\",expo)"
   ]
  },
  {
   "cell_type": "code",
   "execution_count": 164,
   "id": "ff4428cf-3884-42a4-bfca-9c6c956d2496",
   "metadata": {},
   "outputs": [
    {
     "name": "stdout",
     "output_type": "stream",
     "text": [
      "Log operation on given array. [[0.         0.69314718]\n",
      " [1.09861229 1.38629436]]\n"
     ]
    }
   ],
   "source": [
    "log1 = np.log(pow1)\n",
    "print(\"Log operation on given array.\",log1)"
   ]
  },
  {
   "cell_type": "code",
   "execution_count": null,
   "id": "b241d9c4-91f1-43c7-aadb-a9d8411b1623",
   "metadata": {},
   "outputs": [],
   "source": [
    "# 4. Trignometric Operations"
   ]
  },
  {
   "cell_type": "code",
   "execution_count": 167,
   "id": "4f4d6d34-3db7-4843-8894-9a031b5b2fce",
   "metadata": {},
   "outputs": [
    {
     "name": "stdout",
     "output_type": "stream",
     "text": [
      "Trignometric Operations Sin:[[ 0.84147098  0.90929743]\n",
      " [ 0.14112001 -0.7568025 ]], Cos:[[ 0.54030231 -0.41614684]\n",
      " [-0.9899925  -0.65364362]], Tan:[[ 1.55740772 -2.18503986]\n",
      " [-0.14254654  1.15782128]]\n"
     ]
    }
   ],
   "source": [
    "x1 = [[1,2],[3,4]]\n",
    "x2 = [[5,6],[7,8]]\n",
    "sin = np.sin(x1)\n",
    "cos = np.cos(x1)\n",
    "tan = np.tan(x1)\n",
    "print(\"Trignometric Operations Sin:{}, Cos:{}, Tan:{}\".format(sin,cos,tan))"
   ]
  },
  {
   "cell_type": "code",
   "execution_count": 169,
   "id": "626d04f8-2b83-49b5-9cd6-a01fbd493f12",
   "metadata": {},
   "outputs": [
    {
     "name": "stdout",
     "output_type": "stream",
     "text": [
      "Round to nearest integer. [[2. 3.]\n",
      " [4. 5.]]\n"
     ]
    }
   ],
   "source": [
    "r1 = [[1.5678, 2.678], [3.678, 4.679]]\n",
    "round1 = np.round(r1)\n",
    "print(\"Round to nearest integer.\", round1)\n"
   ]
  },
  {
   "cell_type": "code",
   "execution_count": 170,
   "id": "d25a2571-c7e3-4843-bca3-408360fc52ec",
   "metadata": {},
   "outputs": [
    {
     "name": "stdout",
     "output_type": "stream",
     "text": [
      "Rounds to nearest whole number. [[1. 2.]\n",
      " [3. 4.]]\n"
     ]
    }
   ],
   "source": [
    "floor = np.floor(r1)\n",
    "print(\"Rounds down to nearest whole number.\",floor)"
   ]
  },
  {
   "cell_type": "code",
   "execution_count": 172,
   "id": "2c444866-5a9f-4659-8819-7badf2271639",
   "metadata": {},
   "outputs": [
    {
     "name": "stdout",
     "output_type": "stream",
     "text": [
      "Rounds up to the nearest whole number. [[2. 3.]\n",
      " [4. 5.]]\n"
     ]
    }
   ],
   "source": [
    "ceil = np.ceil(r1)\n",
    "print(\"Rounds up to the nearest whole number.\",ceil)"
   ]
  },
  {
   "cell_type": "code",
   "execution_count": null,
   "id": "86956424-5a38-4928-a8dd-238fca99c22b",
   "metadata": {},
   "outputs": [],
   "source": [
    "# 5. Statistical Operations"
   ]
  },
  {
   "cell_type": "code",
   "execution_count": 177,
   "id": "e4a5c5c9-c1e1-4fc8-822b-984db21670a9",
   "metadata": {},
   "outputs": [
    {
     "name": "stdout",
     "output_type": "stream",
     "text": [
      "Adds all value and divides by count. 3.1507\n"
     ]
    }
   ],
   "source": [
    "mean = np.mean(r1)\n",
    "print(\"Adds all value and divides by count.\", mean)"
   ]
  },
  {
   "cell_type": "code",
   "execution_count": 178,
   "id": "e5deecec-045c-4ad7-86d4-3347b3e75974",
   "metadata": {},
   "outputs": [
    {
     "name": "stdout",
     "output_type": "stream",
     "text": [
      "Average between middle values of flattened sorted array. 3.178\n"
     ]
    }
   ],
   "source": [
    "median = np.median(r1)\n",
    "print(\"Average between middle values of flattened sorted array.\",median)"
   ]
  },
  {
   "cell_type": "code",
   "execution_count": 192,
   "id": "7f14a57f-53ed-4427-9a02-115005d40311",
   "metadata": {},
   "outputs": [
    {
     "name": "stdout",
     "output_type": "stream",
     "text": [
      "SD computation using Mean, Deviation and Variance calculation. 2.23606797749979\n"
     ]
    }
   ],
   "source": [
    "sd1 = np.array([[2,4],[6,8]])\n",
    "sd = np.std(sd1)\n",
    "print(\"SD computation using Mean, Deviation and Variance calculation.\",sd)"
   ]
  },
  {
   "cell_type": "code",
   "execution_count": 193,
   "id": "135969de-0949-4b4e-9d58-62801bcfe1db",
   "metadata": {},
   "outputs": [
    {
     "name": "stdout",
     "output_type": "stream",
     "text": [
      "Variance is the square of standard deviation. 5.0\n"
     ]
    }
   ],
   "source": [
    "var = np.var(sd1)\n",
    "print(\"Variance is the square of standard deviation.\",var)"
   ]
  },
  {
   "cell_type": "code",
   "execution_count": 194,
   "id": "69067a2b-96e5-4ec6-bcff-bb3595b6edde",
   "metadata": {},
   "outputs": [
    {
     "name": "stdout",
     "output_type": "stream",
     "text": [
      "Minimum 2 and Maximum 8 value in the array\n"
     ]
    }
   ],
   "source": [
    "min = np.min(sd1)\n",
    "max = np.max(sd1)\n",
    "print(\"Minimum {} and Maximum {} value in the array\".format(min, max))"
   ]
  },
  {
   "cell_type": "code",
   "execution_count": 195,
   "id": "e7f1c40f-2f70-4b01-9f4d-b44695b7eb6e",
   "metadata": {},
   "outputs": [
    {
     "name": "stdout",
     "output_type": "stream",
     "text": [
      "75th percentile of Given array. 6.5\n"
     ]
    }
   ],
   "source": [
    "percentile = np.percentile(sd1, 75)\n",
    "print(\"75th percentile of Given array.\", percentile)"
   ]
  },
  {
   "cell_type": "code",
   "execution_count": 196,
   "id": "6d52d1f3-0651-4b05-801c-4d0a524017b2",
   "metadata": {},
   "outputs": [
    {
     "name": "stdout",
     "output_type": "stream",
     "text": [
      "Correlation coefficient matrix between given array. [[1. 1.]\n",
      " [1. 1.]]\n"
     ]
    }
   ],
   "source": [
    "coefficient = np.corrcoef(sd1)\n",
    "print(\"Correlation coefficient matrix between given array.\",coefficient)"
   ]
  },
  {
   "cell_type": "code",
   "execution_count": 199,
   "id": "068f86eb-2834-4eb4-ae7e-01e9e7509544",
   "metadata": {},
   "outputs": [
    {
     "name": "stdout",
     "output_type": "stream",
     "text": [
      "Histogram of given array [[2 4]\n",
      " [6 8]]\n"
     ]
    }
   ],
   "source": [
    "hist = np.histogram(sd1)\n",
    "print(\"Histogram of given array\",sd1)"
   ]
  },
  {
   "cell_type": "code",
   "execution_count": 204,
   "id": "808f37b9-2836-47e9-9d68-2275d932c8d2",
   "metadata": {},
   "outputs": [
    {
     "name": "stdout",
     "output_type": "stream",
     "text": [
      "Argmax Index of max value 3 and Argmin index of min value  0 for the given array\n"
     ]
    }
   ],
   "source": [
    "argmax = np.argmax(sd1)\n",
    "argmin = np.argmin(sd1)\n",
    "print(\"Argmax Index of max value {} and Argmin index of min value  {} for the given array\".format(argmax,argmin))"
   ]
  },
  {
   "cell_type": "code",
   "execution_count": null,
   "id": "3a83d331-8504-4b94-8d16-eba7090184fd",
   "metadata": {},
   "outputs": [],
   "source": []
  }
 ],
 "metadata": {
  "kernelspec": {
   "display_name": "Python 3 (ipykernel)",
   "language": "python",
   "name": "python3"
  },
  "language_info": {
   "codemirror_mode": {
    "name": "ipython",
    "version": 3
   },
   "file_extension": ".py",
   "mimetype": "text/x-python",
   "name": "python",
   "nbconvert_exporter": "python",
   "pygments_lexer": "ipython3",
   "version": "3.10.18"
  }
 },
 "nbformat": 4,
 "nbformat_minor": 5
}
