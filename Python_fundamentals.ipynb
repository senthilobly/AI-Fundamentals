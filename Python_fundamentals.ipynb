{
 "cells": [
  {
   "cell_type": "code",
   "execution_count": null,
   "id": "e9bdc59c-39b7-4b3c-8d69-87696f565a6c",
   "metadata": {},
   "outputs": [],
   "source": [
    "# Python Refresher"
   ]
  },
  {
   "cell_type": "code",
   "execution_count": null,
   "id": "76075078-da11-4ba8-aba6-93b3312455ba",
   "metadata": {},
   "outputs": [],
   "source": [
    "# A . Data Types and Variables"
   ]
  },
  {
   "cell_type": "code",
   "execution_count": null,
   "id": "419cb71b-a049-471f-8fe5-e36cd0d4896b",
   "metadata": {},
   "outputs": [],
   "source": [
    "# int, float, str, bool, list, tuple, set, dict"
   ]
  },
  {
   "cell_type": "code",
   "execution_count": 22,
   "id": "e64af871-1b27-461f-ac76-3188bb19e35e",
   "metadata": {},
   "outputs": [],
   "source": [
    "x = 10 # int\n",
    "y = 3.14 # Float\n",
    "name = \"Alex\" # String\n",
    "is_ready = True # Bool\n",
    "my_list = [1,2,3,4] # List\n",
    "my_tuple = (1,2,3,4) # Tuple\n",
    "my_set = {1,2,3,4} # Set\n",
    "my_dict = { \"name\": \"Alex\",\n",
    "            \"age\": \"32\",\n",
    "            \"city\" : \"Bangalore\"\n",
    "          } # Dict with key, Value pairs"
   ]
  },
  {
   "cell_type": "code",
   "execution_count": 9,
   "id": "eda4ba7e-5a63-44d6-be92-ac5049163525",
   "metadata": {},
   "outputs": [],
   "source": [
    "# B. Conditional Statements"
   ]
  },
  {
   "cell_type": "code",
   "execution_count": 23,
   "id": "035817d6-eda3-4883-b48a-e964f7474ab6",
   "metadata": {},
   "outputs": [
    {
     "name": "stdout",
     "output_type": "stream",
     "text": [
      "x is greater than 5\n"
     ]
    }
   ],
   "source": [
    "if x > 5:\n",
    "    print(\"x is greater than 5\")\n",
    "elif x==5:\n",
    "    print(\"X is 5\")\n",
    "else:\n",
    "    print(\"x smaller than 5\")"
   ]
  },
  {
   "cell_type": "code",
   "execution_count": null,
   "id": "0feb60a7-8044-4b88-a30a-30b4e6e62b65",
   "metadata": {},
   "outputs": [],
   "source": [
    "# C. Loops(for, while)"
   ]
  },
  {
   "cell_type": "code",
   "execution_count": 24,
   "id": "636053a3-7192-4254-ae6b-27a2cd9b61fd",
   "metadata": {},
   "outputs": [
    {
     "name": "stdout",
     "output_type": "stream",
     "text": [
      "for loop of 0 is 0\n",
      "for loop of 1 is 1\n",
      "for loop of 2 is 2\n",
      "for loop of 3 is 3\n",
      "for loop of 4 is 4\n",
      "While loop of 10 is 10\n",
      "While loop of 9 is 9\n",
      "While loop of 8 is 8\n",
      "While loop of 7 is 7\n",
      "While loop of 6 is 6\n",
      "While loop of 5 is 5\n",
      "While loop of 4 is 4\n",
      "While loop of 3 is 3\n",
      "While loop of 2 is 2\n",
      "While loop of 1 is 1\n"
     ]
    }
   ],
   "source": [
    "for i in range(5):\n",
    "    print(\"for loop of {} is {}\".format(i,i))\n",
    "\n",
    "while x > 0:\n",
    "    print(\"While loop of {} is {}\".format(x,x))\n",
    "    x -= 1"
   ]
  },
  {
   "cell_type": "code",
   "execution_count": null,
   "id": "4b4d7e1e-5312-4bfb-932f-e07bde87ee4e",
   "metadata": {},
   "outputs": [],
   "source": [
    "# D. Functions"
   ]
  },
  {
   "cell_type": "code",
   "execution_count": 26,
   "id": "0c5a03be-1ca4-49a0-9334-5a4249da9fed",
   "metadata": {},
   "outputs": [
    {
     "name": "stdout",
     "output_type": "stream",
     "text": [
      "Result of function add: 12\n"
     ]
    }
   ],
   "source": [
    "def add(a,b):\n",
    "    return a+b\n",
    "\n",
    "result = add(10,2)\n",
    "print(\"Result of function add:\", result)"
   ]
  },
  {
   "cell_type": "code",
   "execution_count": null,
   "id": "11d83abb-b730-4136-bd97-0c9e7ecf78c3",
   "metadata": {},
   "outputs": [],
   "source": [
    "# E. Classes (OOPS)"
   ]
  },
  {
   "cell_type": "code",
   "execution_count": 32,
   "id": "eb2f27de-3784-4db8-90c8-77781c6767d0",
   "metadata": {},
   "outputs": [
    {
     "name": "stdout",
     "output_type": "stream",
     "text": [
      "My name is Alex\n"
     ]
    }
   ],
   "source": [
    "class Person:\n",
    "    def __init__(self, name):\n",
    "        self.name = name\n",
    "    def name_of_person(self):\n",
    "        return f\"My name is {self.name}\"\n",
    "\n",
    "p = Person(\"Alex\")\n",
    "print(p.name_of_person())   "
   ]
  },
  {
   "cell_type": "code",
   "execution_count": null,
   "id": "5a7c1212-bff9-4b34-b419-e55add23dd38",
   "metadata": {},
   "outputs": [],
   "source": []
  }
 ],
 "metadata": {
  "kernelspec": {
   "display_name": "Python 3 (ipykernel)",
   "language": "python",
   "name": "python3"
  },
  "language_info": {
   "codemirror_mode": {
    "name": "ipython",
    "version": 3
   },
   "file_extension": ".py",
   "mimetype": "text/x-python",
   "name": "python",
   "nbconvert_exporter": "python",
   "pygments_lexer": "ipython3",
   "version": "3.10.18"
  }
 },
 "nbformat": 4,
 "nbformat_minor": 5
}
