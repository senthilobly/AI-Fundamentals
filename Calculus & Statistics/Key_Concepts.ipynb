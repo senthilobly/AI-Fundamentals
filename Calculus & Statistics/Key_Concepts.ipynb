{
  "nbformat": 4,
  "nbformat_minor": 0,
  "metadata": {
    "colab": {
      "provenance": []
    },
    "kernelspec": {
      "name": "python3",
      "display_name": "Python 3"
    },
    "language_info": {
      "name": "python"
    }
  },
  "cells": [
    {
      "cell_type": "markdown",
      "source": [
        "# I. Calculus"
      ],
      "metadata": {
        "id": "GsgOBhfkyqQr"
      }
    },
    {
      "cell_type": "markdown",
      "source": [
        "**1. Derivative**\n",
        "Measures the rate at which a function changes at any point.\n",
        "\n",
        "f'(x) = df(x)/dx\n",
        "\n",
        "Manual Example:\n",
        "Let f(x) = x**2\n",
        "Then f'(x) = 2x\n",
        "at x=3\n",
        "\n",
        "f'(3) = 2x3 = 6\n",
        "\n"
      ],
      "metadata": {
        "id": "BKjG0c-kWECb"
      }
    },
    {
      "cell_type": "code",
      "source": [
        "# Python Equivalent\n",
        "import numpy as np\n",
        "import matplotlib.pyplot as plt\n",
        "\n",
        "def f(x):\n",
        "    return x**2\n",
        "\n",
        "def compute_derivative(f, x, h=1e-5):\n",
        "  return (f(x + h) - f(x - h)) / (2 * h)\n",
        "\n",
        "x=10\n",
        "y = f(x)\n",
        "derivative = compute_derivative(f, x)\n",
        "\n",
        "print(f\"The derivative of f(x) = x^2 at x = {x} is: {derivative:.4f}\")\n",
        "\n",
        "# Plot just the point and tangent line (no full curve)\n",
        "plt.figure(figsize=(6, 4))\n",
        "plt.scatter(x, y, color='red', s=50, label=f\"Point ({x}, {y})\")\n",
        "# Tangent line: y = f(x) + derivative * (x_input - x)\n",
        "plt.plot([2,12], [20,120], '--', color='blue', label=f\"(slope = {derivative:.1f})\")\n",
        "# Annotate\n",
        "plt.title(f\"Derivative of $f(x) = x^2$ at $x = {x}$\")\n",
        "plt.xlabel(\"x\")\n",
        "plt.ylabel(\"f(x)\")\n",
        "plt.legend()\n",
        "plt.grid(True)\n",
        "plt.show()"
      ],
      "metadata": {
        "colab": {
          "base_uri": "https://localhost:8080/",
          "height": 432
        },
        "id": "U9xdwWg3XSuc",
        "outputId": "d93f9983-9246-4b72-a418-bd4ff594d8de"
      },
      "execution_count": 42,
      "outputs": [
        {
          "output_type": "stream",
          "name": "stdout",
          "text": [
            "The derivative of f(x) = x^2 at x = 10 is: 20.0000\n"
          ]
        },
        {
          "output_type": "display_data",
          "data": {
            "text/plain": [
              "<Figure size 600x400 with 1 Axes>"
            ],
            "image/png": "[encoded data removed]"
          },
          "metadata": {}
        }
      ]
    },
    {
      "cell_type": "markdown",
      "source": [
        "**2. Partial Derivative**\n",
        "\n",
        "Derivative of a multivariable function with respect to one variable.\n",
        "\n",
        "Formula:\n",
        "\n",
        "df(x,y)/dx , df(x,y)/dy\n",
        "\n",
        "Manual Example:\n",
        "\n",
        "  - Let f(x,y) = x**2 + y**2\n",
        "  - df/dx = 2x, df/dy = 2y\n",
        "  -- At x=1 and y=2\n",
        "  -- df/dx=2, df/dy=4\n",
        "\n",
        "\n",
        "\n"
      ],
      "metadata": {
        "id": "aVdMbsY0X4fG"
      }
    },
    {
      "cell_type": "code",
      "source": [
        "# Python Equivalent\n",
        "def f(x, y):\n",
        "    return x**2 + y**3\n",
        "\n",
        "def compute_partial_derivative(f, x, y, var='x', h=1e-5):\n",
        "  if var == 'x':\n",
        "    return (f(x + h, y) - f(x - h, y)) / (2 * h)\n",
        "  else:\n",
        "    return (f(x, y + h) - f(x, y - h)) / (2 * h)\n",
        "\n",
        "x, y = 2.0, 3.0\n",
        "\n",
        "df_dx = compute_partial_derivative(f, x, y, 'x')\n",
        "df_dy = compute_partial_derivative(f, x, y, 'y')\n",
        "\n",
        "print(f\"∂f/∂x at ({x},{y}) = {df_dx:.4f}\")\n",
        "print(f\"∂f/∂y at ({x},{y}) = {df_dy:.4f}\")"
      ],
      "metadata": {
        "colab": {
          "base_uri": "https://localhost:8080/"
        },
        "id": "z25vVmFeY5e2",
        "outputId": "183690cb-8d9c-4f9b-fca0-cbf7e1515591"
      },
      "execution_count": 50,
      "outputs": [
        {
          "output_type": "stream",
          "name": "stdout",
          "text": [
            "∂f/∂x at (2.0,3.0) = 4.0000\n",
            "∂f/∂y at (2.0,3.0) = 27.0000\n"
          ]
        }
      ]
    },
    {
      "cell_type": "markdown",
      "source": [
        "**3. Gradient**\n",
        "\n",
        "Vector of all partial derivatives — direction of steepest ascent.\n",
        "\n",
        "∇f(x,y)=[∂f/∂x , ∂f/∂y]\n",
        "\n",
        "Manual Example:\n",
        "Same Function f(x,y) = x**2 + y**2\n",
        "Gradient at x=2,y=3 is [4,6]\n",
        "\n",
        "\n",
        "\n",
        "\n"
      ],
      "metadata": {
        "id": "fleynZJKkjsB"
      }
    },
    {
      "cell_type": "code",
      "source": [
        "def f(x,y):\n",
        "  return x**2 + y**2\n",
        "\n",
        "def compute_gradient(f, x, y, h=1e-5):\n",
        "  df_dx = (f(x + h, y) - f(x - h, y)) / (2 * h)\n",
        "  df_dy = (f(x, y + h) - f(x, y - h)) / (2 * h)\n",
        "  return np.array([df_dx, df_dy])\n",
        "\n",
        "x, y = 2.0, 3.0\n",
        "gradient = compute_gradient(f, x, y)\n",
        "print(f\"Gradient at ({x}, {y}): {gradient}\")"
      ],
      "metadata": {
        "colab": {
          "base_uri": "https://localhost:8080/"
        },
        "id": "xLY1QTN0llDa",
        "outputId": "6c005ae5-c768-422a-9d27-357ba10a8c8d"
      },
      "execution_count": 54,
      "outputs": [
        {
          "output_type": "stream",
          "name": "stdout",
          "text": [
            "Gradient at (2.0, 3.0): [4. 6.]\n"
          ]
        }
      ]
    },
    {
      "cell_type": "markdown",
      "source": [
        "**4. Chain Rule**\n",
        "\n",
        "The chain rule is one of the most important rules in calculus. It helps us compute the derivative of composite functions (functions inside other functions).\n",
        "\n",
        "1. What is the Chain Rule?\n",
        "\n",
        "If a variable z depends on y, and y depends on x, then z indirectly depends on x, and the derivative is:\n",
        "\n",
        "dz/dx = dz/dy * dy/dx\n",
        "\n",
        "2. Chain Rule Formula:\n",
        "\n",
        "For a composite function: y = f(g(x))\n",
        "Then the derivative of x is: dy/dx = df/dg * dg/dx\n",
        "\n",
        "Or in function notation: d/dx[f(g(x))] = f'(g(x)) * g'(x)\n",
        "\n",
        "\n"
      ],
      "metadata": {
        "id": "c8_GIuW8m-HY"
      }
    },
    {
      "cell_type": "code",
      "source": [
        "import numpy as np\n",
        "\n",
        "def f(x):\n",
        "    return np.sin(x**2)\n",
        "\n",
        "def f_prime(x):\n",
        "    return np.cos(x**2) * 2 * x\n",
        "\n",
        "x = 2\n",
        "print(f\"f({x}) =\", f(x))\n",
        "print(\"Derivative at x =\", x, \"is\", f_prime(x))\n"
      ],
      "metadata": {
        "colab": {
          "base_uri": "https://localhost:8080/"
        },
        "id": "hOLnaICZp6aq",
        "outputId": "3cae68b9-d3ef-4e98-98af-42c825fa78ac"
      },
      "execution_count": 55,
      "outputs": [
        {
          "output_type": "stream",
          "name": "stdout",
          "text": [
            "f(2) = -0.7568024953079282\n",
            "Derivative at x = 2 is -2.6145744834544478\n"
          ]
        }
      ]
    },
    {
      "cell_type": "markdown",
      "source": [
        "# II. Probability & Statistics\n"
      ],
      "metadata": {
        "id": "LYTBJjjirNwN"
      }
    },
    {
      "cell_type": "markdown",
      "source": [
        "**Mean(Expected Value)**\n",
        "E(X)= ∑xi*pi\n",
        "\n",
        "xi = Values\n",
        "pi = Probabilities\n"
      ],
      "metadata": {
        "id": "2L87GGxgDK2z"
      }
    },
    {
      "cell_type": "code",
      "source": [
        "import numpy as np\n",
        "values = np.array([1,2,3])\n",
        "probs = np.array([0.1, 0.2, 0.3])\n",
        "mean = np.sum(values * probs)\n",
        "print(\"Mean value\", mean)"
      ],
      "metadata": {
        "colab": {
          "base_uri": "https://localhost:8080/"
        },
        "id": "wteeSi9PDT-n",
        "outputId": "49e3feb3-5a2d-46d8-9da8-17d900e5062e"
      },
      "execution_count": 2,
      "outputs": [
        {
          "output_type": "stream",
          "name": "stdout",
          "text": [
            "Mean value 1.4\n"
          ]
        }
      ]
    },
    {
      "cell_type": "markdown",
      "source": [
        "**Variance & Standard Deviation:**\n",
        "\n",
        "Variance = var(x) = E(x**2) - E(x)**2\n",
        "\n",
        "E(X**2) = sum(Xi**2 * Pi)\n",
        "\n",
        "E(x)**2 = sum(Xi * Pi)**2\n",
        "\n",
        "std = sqrt(variance)\n",
        "\n",
        "\n"
      ],
      "metadata": {
        "id": "VUPvQDoVDr_F"
      }
    },
    {
      "cell_type": "code",
      "source": [
        "E_X2 = np.sum((values**2) * probs)\n",
        "E_X = (np.sum(values * probs))**2\n",
        "variance = E_X2 - E_X\n",
        "std_deviation = np.sqrt(variance)\n",
        "print(\"Variance\", variance)\n",
        "print(\"Standard Deviation\", std_deviation)"
      ],
      "metadata": {
        "colab": {
          "base_uri": "https://localhost:8080/"
        },
        "id": "LKHEnuGEGzGh",
        "outputId": "d15f61a6-5af8-4709-f511-5d3c47c75cdb"
      },
      "execution_count": 5,
      "outputs": [
        {
          "output_type": "stream",
          "name": "stdout",
          "text": [
            "Variance 1.64\n",
            "Standard Deviation 1.2806248474865698\n"
          ]
        }
      ]
    },
    {
      "cell_type": "markdown",
      "source": [
        "**Bayes Theorem:**\n",
        "\n",
        "Bayes' Theorem helps us update the probability of an event based on new information.\n",
        "\n",
        "P(A|B) = P(B|A) * P(A) / P(B)\n",
        "\n",
        "P(A|B) = Probability of A happening given B (what we want to find).\n",
        "\n",
        "P(B|A) = Probability of B happening given A.\n",
        "\n",
        "P(A) =  Initial probability of A (prior belief).\n",
        "\n",
        "P(B) = Total probability of B happening."
      ],
      "metadata": {
        "id": "txned5q_Jf_H"
      }
    },
    {
      "cell_type": "code",
      "source": [
        "# Prior probabilities\n",
        "P_jar1 = 0.5\n",
        "P_jar2 = 0.5\n",
        "\n",
        "# Likelihoods\n",
        "P_cherry_given_jar1 = 0.7\n",
        "P_cherry_given_jar2 = 0.4\n",
        "\n",
        "# Total probability of picking a cherry (evidence)\n",
        "P_cherry = (P_cherry_given_jar1 * P_jar1) + (P_cherry_given_jar2 * P_jar2)\n",
        "\n",
        "# Bayes' Theorem: Posterior probability\n",
        "P_jar1_given_cherry = (P_cherry_given_jar1 * P_jar1) / P_cherry\n",
        "\n",
        "# Display result\n",
        "print(f\"Probability the cherry came from Jar 1: {P_jar1_given_cherry:.4f} or {P_jar1_given_cherry*100:.2f}%\")\n",
        "\n"
      ],
      "metadata": {
        "colab": {
          "base_uri": "https://localhost:8080/"
        },
        "id": "VpozyG5SMkwk",
        "outputId": "69791059-afab-4674-9c4d-daa8824731bf"
      },
      "execution_count": 6,
      "outputs": [
        {
          "output_type": "stream",
          "name": "stdout",
          "text": [
            "Probability the cherry came from Jar 1: 0.6364 or 63.64%\n"
          ]
        }
      ]
    },
    {
      "cell_type": "markdown",
      "source": [
        "**Covariance Matrix:**\n",
        "\n",
        "- Measures how two variables change together.\n",
        "\n",
        "Formula:\n",
        "  Cov(X, Y) = E[(X - E[X]) * (Y - E[Y])]\n",
        "\n"
      ],
      "metadata": {
        "id": "VQr5KmzXOxfH"
      }
    },
    {
      "cell_type": "code",
      "source": [
        "import numpy as np\n",
        "cov_matrix = np.cov([[30, 50, 20], [60, 30, 10], [25, 45, 15]])  # 3 variables\n",
        "print(cov_matrix)"
      ],
      "metadata": {
        "colab": {
          "base_uri": "https://localhost:8080/"
        },
        "id": "ClmfMdqSPqIc",
        "outputId": "b7df01b3-22cd-4202-84be-03fdf16b3c34"
      },
      "execution_count": 7,
      "outputs": [
        {
          "output_type": "stream",
          "name": "stdout",
          "text": [
            "[[233.33333333  83.33333333 233.33333333]\n",
            " [ 83.33333333 633.33333333  83.33333333]\n",
            " [233.33333333  83.33333333 233.33333333]]\n"
          ]
        }
      ]
    },
    {
      "cell_type": "markdown",
      "source": [
        "**MEDIAN**\n",
        "-----------------------------\n",
        "- Middle value when sorted.\n",
        "\n",
        "Example:\n",
        "\n",
        "  [2, 3, 5], Median = 3\n",
        "\n",
        "  [1, 2, 3, 4], Median = (2+3)/2 = 2.5"
      ],
      "metadata": {
        "id": "JQAGap7KQfBa"
      }
    },
    {
      "cell_type": "markdown",
      "source": [
        "**MODE**\n",
        "-----------------------------\n",
        "- Most frequent value.\n",
        "\n",
        "Example:\n",
        "\n",
        "  [1, 2, 2, 3], Mode = 2"
      ],
      "metadata": {
        "id": "l9phd7P7QiPH"
      }
    },
    {
      "cell_type": "markdown",
      "source": [
        "**RANGE**\n",
        "\n",
        "- Difference between max and min.\n",
        "\n",
        "Formula:\n",
        "  Range = Max - Min\n",
        "\n",
        "Example:\n",
        "  [2, 6, 10], Range = 10 - 2 = 8"
      ],
      "metadata": {
        "id": "BPnh0xhBQvc6"
      }
    },
    {
      "cell_type": "markdown",
      "source": [
        "**Z-SCORE**\n",
        "-----------------------------\n",
        "- Number of standard deviations from the mean.\n",
        "\n",
        "Formula:\n",
        "\n",
        "  Z = (X - μ) / σ\n",
        "\n",
        "Example:\n",
        "\n",
        "  X = 85, Mean = 70, Std Dev = 10\n",
        "\n",
        "  => Z = (85 - 70) / 10 = 1.5"
      ],
      "metadata": {
        "id": "VmizE8CTQ3HQ"
      }
    },
    {
      "cell_type": "markdown",
      "source": [],
      "metadata": {
        "id": "nOJUZAW6Q-rK"
      }
    },
    {
      "cell_type": "markdown",
      "source": [
        "# III. Optimization\n"
      ],
      "metadata": {
        "id": "igaUNi92RaQU"
      }
    },
    {
      "cell_type": "markdown",
      "source": [
        "**Gradient Descent**\n",
        "\n",
        "Update rule to minimize cost.\n",
        "\n",
        "Formula:\n",
        "\n",
        "1. Compute the Cost function (Error value b/w predicted and original)\n",
        "L(w) = (ytrue - ypred)**2\n",
        "\n",
        "2. Update parameters:\n",
        "θnew = θold - alpha * ∇J(θ)\n",
        "\n",
        "θold = Old value\n",
        "alpha = learning rate\n",
        "∇J(θ) = Gradient (vector of partial derivatives) of the cost function J evaluated at the current parameter value θold.\n",
        "\n"
      ],
      "metadata": {
        "id": "MrB502FqRdPo"
      }
    },
    {
      "cell_type": "code",
      "source": [
        "# Objective: Minimize f(x) = x^2\n",
        "\n",
        "def f(x):\n",
        "    return x ** 2\n",
        "\n",
        "def grad_f(x):\n",
        "    return 2 * x  # Derivative of f(x) = x^2\n",
        "\n",
        "# Initialize\n",
        "x = 5             # Starting point\n",
        "learning_rate = 0.1\n",
        "epochs = 20       # How many steps\n",
        "\n",
        "# Gradient Descent Loop\n",
        "for i in range(epochs):\n",
        "    grad = grad_f(x)\n",
        "    x = x - learning_rate * grad\n",
        "    print(f\"Iteration {i+1}: x = {x:.4f}, f(x) = {f(x):.4f}\")\n"
      ],
      "metadata": {
        "colab": {
          "base_uri": "https://localhost:8080/"
        },
        "id": "DJefZa7fTaN-",
        "outputId": "87ab0e19-ed83-48e4-f722-8ce727318308"
      },
      "execution_count": 8,
      "outputs": [
        {
          "output_type": "stream",
          "name": "stdout",
          "text": [
            "Iteration 1: x = 4.0000, f(x) = 16.0000\n",
            "Iteration 2: x = 3.2000, f(x) = 10.2400\n",
            "Iteration 3: x = 2.5600, f(x) = 6.5536\n",
            "Iteration 4: x = 2.0480, f(x) = 4.1943\n",
            "Iteration 5: x = 1.6384, f(x) = 2.6844\n",
            "Iteration 6: x = 1.3107, f(x) = 1.7180\n",
            "Iteration 7: x = 1.0486, f(x) = 1.0995\n",
            "Iteration 8: x = 0.8389, f(x) = 0.7037\n",
            "Iteration 9: x = 0.6711, f(x) = 0.4504\n",
            "Iteration 10: x = 0.5369, f(x) = 0.2882\n",
            "Iteration 11: x = 0.4295, f(x) = 0.1845\n",
            "Iteration 12: x = 0.3436, f(x) = 0.1181\n",
            "Iteration 13: x = 0.2749, f(x) = 0.0756\n",
            "Iteration 14: x = 0.2199, f(x) = 0.0484\n",
            "Iteration 15: x = 0.1759, f(x) = 0.0309\n",
            "Iteration 16: x = 0.1407, f(x) = 0.0198\n",
            "Iteration 17: x = 0.1126, f(x) = 0.0127\n",
            "Iteration 18: x = 0.0901, f(x) = 0.0081\n",
            "Iteration 19: x = 0.0721, f(x) = 0.0052\n",
            "Iteration 20: x = 0.0576, f(x) = 0.0033\n"
          ]
        }
      ]
    },
    {
      "cell_type": "markdown",
      "source": [
        "**L2 Regularization**\n",
        "\n",
        "Regularization is a technique used to prevent overfitting in machine learning models by discouraging overly complex models. It works by adding a \"penalty\" to the loss function to keep model weights (parameters) small.\n",
        "\n",
        "Problem: A model with too many parameters may memorize training data (overfitting) instead of generalizing.\n",
        "\n",
        "Solution: Regularization constrains the model to prefer simpler, smoother functions.\n",
        "\n",
        "Regularization = Original Loss + Penalty\n",
        "\n",
        "Total Cost=Original Loss+λ⋅Penalty\n",
        "λ (lambda): Controls how strong the penalty is.\n",
        "Penalty: Depends on the type of regularization.\n",
        "\n",
        "**(1) L1 Regularization (Lasso)**\n",
        "\n",
        "Loss L1 =Loss+ λ ∑∣wi∣\n",
        "\n",
        "Adds a penalty proportional to the absolute values of weights.\n",
        "Effect: Encourages sparsity (some weights become exactly 0).\n",
        "\n",
        "**L2 Regularization (Ridge)**\n",
        "\n",
        "J(θ)=Loss(θ)+λ∑θi2\n",
        "\n",
        "Adds a penalty proportional to the squared values of weights.\n",
        "Effect: Keeps weights small but rarely zero.\n",
        "\n",
        "**Elastic Net (L1 + L2)**\n",
        "\n",
        "Combines L1 and L2 penalties:\n",
        "\n",
        "J(θ)=Loss(θ) + L1 + L2\n"
      ],
      "metadata": {
        "id": "fL1BFxsdT5uo"
      }
    }
  ]
}